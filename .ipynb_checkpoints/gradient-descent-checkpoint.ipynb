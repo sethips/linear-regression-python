{
 "cells": [
  {
   "cell_type": "code",
   "execution_count": null,
   "metadata": {},
   "outputs": [],
   "source": []
  },
  {
   "cell_type": "code",
   "execution_count": null,
   "metadata": {},
   "outputs": [],
   "source": []
  },
  {
   "cell_type": "code",
   "execution_count": null,
   "metadata": {},
   "outputs": [],
   "source": []
  },
  {
   "cell_type": "code",
   "execution_count": null,
   "metadata": {},
   "outputs": [],
   "source": []
  },
  {
   "cell_type": "code",
   "execution_count": 1,
   "metadata": {},
   "outputs": [],
   "source": [
    "learning_rate = 0.0001\n",
    "slope = 0\n",
    "intercept = 0\n",
    "iteration = 950"
   ]
  },
  {
   "cell_type": "code",
   "execution_count": 2,
   "metadata": {},
   "outputs": [],
   "source": [
    "def mse(y_actual, y_pred):\n",
    "    error = 0\n",
    "    \n",
    "    for y, y_prime in zip(y_actual, y_pred):\n",
    "        error += (y - y_prime) ** 2\n",
    "    \n",
    "    return error"
   ]
  },
  {
   "cell_type": "code",
   "execution_count": null,
   "metadata": {},
   "outputs": [],
   "source": [
    "def calculate_partial_derivative(data, intercept, slope):\n",
    "    "
   ]
  },
  {
   "cell_type": "code",
   "execution_count": null,
   "metadata": {},
   "outputs": [],
   "source": [
    "def train(data, learning_rate, iterations, starting_intercept, starting_slope):\n",
    "\n",
    "    for i in range(iterations):\n",
    "        \n",
    "        partial_derivative_slope = 0\n",
    "        partial_derivative_intercept = 0\n",
    "        n = float(len(data))\n",
    "        \n",
    "        for j in range(n):\n",
    "            x = data[i,0]\n",
    "            y = data[i,1]\n",
    "            \n",
    "            partial_derivative_intercept += - (2/n) * (y - ((slope * x) + intercept))\n",
    "            partial_derivative_slope += - (2/n) * x * (y - ((slope * x) + intercept))\n",
    "            \n",
    "        final_slope = starting_slope - (learning_rate * partial_derivative_slope)\n",
    "        final_intercept = starting_intercept - (learning_rate * partial_derivative_intercept)\n",
    "        s_slope = final_slope\n",
    "        s_intercept = final_intercept\n",
    "        \n",
    "    return  s_slope, s_intercept"
   ]
  }
 ],
 "metadata": {
  "kernelspec": {
   "display_name": "Python 3",
   "language": "python",
   "name": "python3"
  },
  "language_info": {
   "codemirror_mode": {
    "name": "ipython",
    "version": 3
   },
   "file_extension": ".py",
   "mimetype": "text/x-python",
   "name": "python",
   "nbconvert_exporter": "python",
   "pygments_lexer": "ipython3",
   "version": "3.7.3"
  }
 },
 "nbformat": 4,
 "nbformat_minor": 2
}
