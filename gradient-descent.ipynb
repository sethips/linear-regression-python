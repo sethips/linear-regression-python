{
 "cells": [
  {
   "cell_type": "code",
   "execution_count": 4,
   "metadata": {},
   "outputs": [
    {
     "name": "stderr",
     "output_type": "stream",
     "text": [
      "ERROR:root:Internal Python error in the inspect module.\n",
      "Below is the traceback from this internal error.\n",
      "\n"
     ]
    },
    {
     "name": "stdout",
     "output_type": "stream",
     "text": [
      "Traceback (most recent call last):\n",
      "  File \"/Users/cmaklin/anaconda3/envs/test/lib/python3.7/site-packages/IPython/core/interactiveshell.py\", line 3296, in run_code\n",
      "    exec(code_obj, self.user_global_ns, self.user_ns)\n",
      "  File \"<ipython-input-4-0e7b74c890ed>\", line 1, in <module>\n",
      "    from sklearn.datasets import make_regression\n",
      "  File \"/Users/cmaklin/anaconda3/envs/test/lib/python3.7/site-packages/sklearn/datasets/__init__.py\", line 22, in <module>\n",
      "    from .twenty_newsgroups import fetch_20newsgroups\n",
      "  File \"/Users/cmaklin/anaconda3/envs/test/lib/python3.7/site-packages/sklearn/datasets/twenty_newsgroups.py\", line 44, in <module>\n",
      "    from ..feature_extraction.text import CountVectorizer\n",
      "  File \"/Users/cmaklin/anaconda3/envs/test/lib/python3.7/site-packages/sklearn/feature_extraction/__init__.py\", line 10, in <module>\n",
      "    from . import text\n",
      "  File \"/Users/cmaklin/anaconda3/envs/test/lib/python3.7/site-packages/sklearn/feature_extraction/text.py\", line 28, in <module>\n",
      "    from ..preprocessing import normalize\n",
      "  File \"/Users/cmaklin/anaconda3/envs/test/lib/python3.7/site-packages/sklearn/preprocessing/__init__.py\", line 6, in <module>\n",
      "    from ._function_transformer import FunctionTransformer\n",
      "  File \"/Users/cmaklin/anaconda3/envs/test/lib/python3.7/site-packages/sklearn/preprocessing/_function_transformer.py\", line 5, in <module>\n",
      "    from ..utils.testing import assert_allclose_dense_sparse\n",
      "  File \"/Users/cmaklin/anaconda3/envs/test/lib/python3.7/site-packages/sklearn/utils/testing.py\", line 718, in <module>\n",
      "    import pytest\n",
      "  File \"/Users/cmaklin/anaconda3/envs/test/lib/python3.7/site-packages/pytest.py\", line 8, in <module>\n",
      "    from _pytest.config import cmdline\n",
      "  File \"/Users/cmaklin/anaconda3/envs/test/lib/python3.7/site-packages/_pytest/config/__init__.py\", line 23, in <module>\n",
      "    import _pytest.hookspec  # the extension point definitions\n",
      "  File \"/Users/cmaklin/anaconda3/envs/test/lib/python3.7/site-packages/_pytest/hookspec.py\", line 503, in <module>\n",
      "    @hookspec(historic=True, warn_on_impl=PYTEST_LOGWARNING)\n",
      "TypeError: __call__() got an unexpected keyword argument 'warn_on_impl'\n",
      "\n",
      "During handling of the above exception, another exception occurred:\n",
      "\n",
      "Traceback (most recent call last):\n",
      "  File \"/Users/cmaklin/anaconda3/envs/test/lib/python3.7/site-packages/IPython/core/interactiveshell.py\", line 2033, in showtraceback\n",
      "    stb = value._render_traceback_()\n",
      "AttributeError: 'TypeError' object has no attribute '_render_traceback_'\n",
      "\n",
      "During handling of the above exception, another exception occurred:\n",
      "\n",
      "Traceback (most recent call last):\n",
      "  File \"/Users/cmaklin/anaconda3/envs/test/lib/python3.7/site-packages/IPython/core/ultratb.py\", line 1095, in get_records\n",
      "    return _fixed_getinnerframes(etb, number_of_lines_of_context, tb_offset)\n",
      "  File \"/Users/cmaklin/anaconda3/envs/test/lib/python3.7/site-packages/IPython/core/ultratb.py\", line 313, in wrapped\n",
      "    return f(*args, **kwargs)\n",
      "  File \"/Users/cmaklin/anaconda3/envs/test/lib/python3.7/site-packages/IPython/core/ultratb.py\", line 347, in _fixed_getinnerframes\n",
      "    records = fix_frame_records_filenames(inspect.getinnerframes(etb, context))\n",
      "  File \"/Users/cmaklin/anaconda3/envs/test/lib/python3.7/inspect.py\", line 1502, in getinnerframes\n",
      "    frameinfo = (tb.tb_frame,) + getframeinfo(tb, context)\n",
      "  File \"/Users/cmaklin/anaconda3/envs/test/lib/python3.7/inspect.py\", line 1460, in getframeinfo\n",
      "    filename = getsourcefile(frame) or getfile(frame)\n",
      "  File \"/Users/cmaklin/anaconda3/envs/test/lib/python3.7/inspect.py\", line 696, in getsourcefile\n",
      "    if getattr(getmodule(object, filename), '__loader__', None) is not None:\n",
      "  File \"/Users/cmaklin/anaconda3/envs/test/lib/python3.7/inspect.py\", line 733, in getmodule\n",
      "    if ismodule(module) and hasattr(module, '__file__'):\n",
      "  File \"/Users/cmaklin/anaconda3/envs/test/lib/python3.7/site-packages/py/_vendored_packages/apipkg.py\", line 195, in __getattribute__\n",
      "    return getattr(getmod(), name)\n",
      "  File \"/Users/cmaklin/anaconda3/envs/test/lib/python3.7/site-packages/py/_vendored_packages/apipkg.py\", line 179, in getmod\n",
      "    x = importobj(modpath, None)\n",
      "  File \"/Users/cmaklin/anaconda3/envs/test/lib/python3.7/site-packages/py/_vendored_packages/apipkg.py\", line 69, in importobj\n",
      "    module = __import__(modpath, None, None, ['__doc__'])\n",
      "  File \"/Users/cmaklin/anaconda3/envs/test/lib/python3.7/site-packages/pytest.py\", line 8, in <module>\n",
      "    from _pytest.config import cmdline\n",
      "  File \"/Users/cmaklin/anaconda3/envs/test/lib/python3.7/site-packages/_pytest/config/__init__.py\", line 23, in <module>\n",
      "    import _pytest.hookspec  # the extension point definitions\n",
      "  File \"/Users/cmaklin/anaconda3/envs/test/lib/python3.7/site-packages/_pytest/hookspec.py\", line 503, in <module>\n",
      "    @hookspec(historic=True, warn_on_impl=PYTEST_LOGWARNING)\n",
      "TypeError: __call__() got an unexpected keyword argument 'warn_on_impl'\n"
     ]
    },
    {
     "ename": "TypeError",
     "evalue": "__call__() got an unexpected keyword argument 'warn_on_impl'",
     "output_type": "error",
     "traceback": [
      "\u001b[0;31m---------------------------------------------------------------------------\u001b[0m"
     ]
    }
   ],
   "source": [
    "from sklearn.datasets import make_regression"
   ]
  },
  {
   "cell_type": "code",
   "execution_count": null,
   "metadata": {},
   "outputs": [],
   "source": [
    "n_samples=100, n_features=100, n_informative=10, n_targets=1,"
   ]
  },
  {
   "cell_type": "code",
   "execution_count": null,
   "metadata": {},
   "outputs": [],
   "source": []
  },
  {
   "cell_type": "code",
   "execution_count": null,
   "metadata": {},
   "outputs": [],
   "source": []
  },
  {
   "cell_type": "code",
   "execution_count": 1,
   "metadata": {},
   "outputs": [],
   "source": [
    "learning_rate = 0.0001\n",
    "slope = 0\n",
    "intercept = 0\n",
    "iteration = 950"
   ]
  },
  {
   "cell_type": "code",
   "execution_count": 2,
   "metadata": {},
   "outputs": [],
   "source": [
    "def mse(y_actual, y_pred):\n",
    "    error = 0\n",
    "    \n",
    "    for y, y_prime in zip(y_actual, y_pred):\n",
    "        error += (y - y_prime) ** 2\n",
    "    \n",
    "    return error"
   ]
  },
  {
   "cell_type": "code",
   "execution_count": 1,
   "metadata": {},
   "outputs": [],
   "source": [
    "def calculate_partial_derivatives(data, intercept, slope):\n",
    "    partial_derivative_slope = 0\n",
    "    partial_derivative_intercept = 0\n",
    "    n = float(len(data))\n",
    "\n",
    "    for i in range(n):\n",
    "        \n",
    "        x = data[i,0]\n",
    "        y = data[i,1]\n",
    "\n",
    "        partial_derivative_intercept += - (2/n) * (y - ((slope * x) + intercept))\n",
    "        partial_derivative_slope += - (2/n) * x * (y - ((slope * x) + intercept))\n",
    "        \n",
    "    return partial_derivative_intercept, partial_derivative_slope"
   ]
  },
  {
   "cell_type": "code",
   "execution_count": 2,
   "metadata": {},
   "outputs": [],
   "source": [
    "def train(data, learning_rate, iterations, intercept, slope):\n",
    "\n",
    "    for i in range(iterations):\n",
    "        \n",
    "        partial_derivative_intercept, partial_derivative_slope = calculate_partial_derivatives(data, intercept, slope)\n",
    "            \n",
    "        intercept = intercept - (learning_rate * partial_derivative_intercept)\n",
    "        slope = slope - (learning_rate * partial_derivative_slope)\n",
    "        \n",
    "    return intercept, slope"
   ]
  },
  {
   "cell_type": "code",
   "execution_count": null,
   "metadata": {},
   "outputs": [],
   "source": []
  }
 ],
 "metadata": {
  "kernelspec": {
   "display_name": "Python 3",
   "language": "python",
   "name": "python3"
  },
  "language_info": {
   "codemirror_mode": {
    "name": "ipython",
    "version": 3
   },
   "file_extension": ".py",
   "mimetype": "text/x-python",
   "name": "python",
   "nbconvert_exporter": "python",
   "pygments_lexer": "ipython3",
   "version": "3.7.3"
  }
 },
 "nbformat": 4,
 "nbformat_minor": 2
}
