{
 "cells": [
  {
   "cell_type": "code",
   "execution_count": null,
   "metadata": {},
   "outputs": [],
   "source": []
  },
  {
   "cell_type": "code",
   "execution_count": null,
   "metadata": {},
   "outputs": [],
   "source": []
  },
  {
   "cell_type": "code",
   "execution_count": null,
   "metadata": {},
   "outputs": [],
   "source": []
  },
  {
   "cell_type": "code",
   "execution_count": null,
   "metadata": {},
   "outputs": [],
   "source": []
  },
  {
   "cell_type": "code",
   "execution_count": 1,
   "metadata": {},
   "outputs": [],
   "source": [
    "learning_rate = 0.0001\n",
    "\n",
    "iteration = 950"
   ]
  },
  {
   "cell_type": "code",
   "execution_count": 2,
   "metadata": {},
   "outputs": [],
   "source": [
    "def mse(y_actual, y_pred):\n",
    "    error = 0\n",
    "    \n",
    "    for y, y_prime in zip(y_actual, y_pred):\n",
    "        error += (y - y_prime) ** 2\n",
    "    \n",
    "    return error"
   ]
  },
  {
   "cell_type": "code",
   "execution_count": null,
   "metadata": {},
   "outputs": [],
   "source": [
    "def train(data, learning_rate, iterations):\n",
    "    slope = 0\n",
    "    intercept = 0\n",
    "    \n",
    "    for i in range(iterations):\n",
    "        slope = 0\n",
    "        intercept = 0\n",
    "        n = float(len(data))\n",
    "        \n",
    "        for j in range(n):\n",
    "            x = d_pt[i,0]\n",
    "            y = d_pt[i,1]\n",
    "            \n",
    "            int_intercept += - (2/n_pt) * (y - ((s_slope * x) + s_intercept))\n",
    "            int_slope += - (2/n_pt) * x * (y - ((s_slope * x) + s_intercept))"
   ]
  }
 ],
 "metadata": {
  "kernelspec": {
   "display_name": "Python 3",
   "language": "python",
   "name": "python3"
  },
  "language_info": {
   "codemirror_mode": {
    "name": "ipython",
    "version": 3
   },
   "file_extension": ".py",
   "mimetype": "text/x-python",
   "name": "python",
   "nbconvert_exporter": "python",
   "pygments_lexer": "ipython3",
   "version": "3.7.3"
  }
 },
 "nbformat": 4,
 "nbformat_minor": 2
}
